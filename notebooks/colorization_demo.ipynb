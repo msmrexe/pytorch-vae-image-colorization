{
 "cells": [
  {
   "cell_type": "markdown",
   "metadata": {},
   "source": [
    "# VAE Colorization Demo Notebook\n",
    "\n",
    "This notebook provides a simple interface to run the main scripts for dataset setup, training, and evaluation.\n",
    "\n",
    "Details and code can be found in the `.py` files. This notebook is just for execution."
   ]
  },
  {
   "cell_type": "markdown",
   "metadata": {},
   "source": [
    "### 1. Install Dependencies\n",
    "\n",
    "First, let's install all the required packages from `requirements.txt`."
   ]
  },
  {
   "cell_type": "code",
   "execution_count": null,
   "metadata": {},
   "outputs": [],
   "source": [
    "%pip install -r ../requirements.txt"
   ]
  },
  {
   "cell_type": "markdown",
   "metadata": {},
   "source": [
    "### 2. Setup Kaggle Dataset\n",
    "\n",
    "This script uses the `opendatasets` library to download the bird dataset from Kaggle. It will prompt you for your Kaggle username and API key.\n",
    "\n",
    "You can find your API key by going to your Kaggle account settings and clicking 'Create New API Token'. This will download a `kaggle.json` file."
   ]
  },
  {
   "cell_type": "code",
   "execution_count": null,
   "metadata": {},
   "outputs": [],
   "source": [
    "!python ../scripts/setup_dataset.py"
   ]
  },
  {
   "cell_type": "markdown",
   "metadata": {},
   "source": [
    "### 3. Run Training\n",
    "\n",
    "Now, we'll run the main training script. This will train the model for 50 epochs (as defined in `src/config.py`) and save the final model to `models/` and the loss plot to `outputs/`.\n",
    "\n",
    "**Note:** This will take a significant amount of time, especially on a CPU."
   ]
  },
  {
   "cell_type": "code",
   "execution_count": null,
   "metadata": {},
   "outputs": [],
   "source": [
    "!python ../scripts/train.py --epochs 50"
   ]
  },
  {
   "cell_type": "markdown",
   "metadata": {},
   "source": [
    "### 4. Run Evaluation\n",
    "\n",
    "After training, this script loads the saved model from `models/` and generates:\n",
    "1.  A grid of (Input, Actual, Predicted) images.\n",
    "2.  A t-SNE plot of the latent space.\n",
    "\n",
    "All results are saved in the `outputs/` directory."
   ]
  },
  {
   "cell_type": "code",
   "execution_count": null,
   "metadata": {},
   "outputs": [],
   "source": [
    "!python ../scripts/evaluate.py"
   ]
  },
  {
   "cell_type": "markdown",
   "metadata": {},
   "source": [
    "### 5. Display Results\n",
    "\n",
    "Let's display the plots generated during training and evaluation."
   ]
  },
  {
   "cell_type": "code",
   "execution_count": null,
   "metadata": {},
   "outputs": [],
   "source": [
    "from IPython.display import Image, display\n",
    "\n",
    "print(\"--- Training and Validation Loss ---\")\n",
    "display(Image(filename='../outputs/training_loss_plot.png'))\n",
    "\n",
    "print(\"\\n--- Colorization Results Grid ---\")\n",
    "display(Image(filename='../outputs/colorization_results.png'))\n",
    "\n",
    "print(\"\\n--- Latent Space (t-SNE) ---\")\n",
    "display(Image(filename='../outputs/latent_space_tsne.png'))"
   ]
  }
 ],
 "metadata": {
  "kernelspec": {
   "display_name": "Python 3",
   "language": "python",
   "name": "python3"
  },
  "language_info": {
   "name": "python",
   "version": "3.10.0"
  }
 },
 "nbformat": 4,
 "nbformat_minor": 2
}